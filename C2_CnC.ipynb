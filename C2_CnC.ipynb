{
  "nbformat": 4,
  "nbformat_minor": 0,
  "metadata": {
    "colab": {
      "name": "C2_CnC",
      "provenance": []
    },
    "kernelspec": {
      "name": "python3",
      "display_name": "Python 3"
    },
    "language_info": {
      "name": "python"
    }
  },
  "cells": [
    {
      "cell_type": "code",
      "metadata": {
        "colab": {
          "base_uri": "https://localhost:8080/"
        },
        "id": "d25yxZLxwfsJ",
        "outputId": "16242712-1870-4453-b4dc-d5f5a9ff11e8"
      },
      "source": [
        "balance = 5200\n",
        "back = ('Y')\n",
        "pin = int(input('Please Enter You 4 Digit Pin: '))\n",
        "\n",
        "if pin == (123456):\n",
        "  while back not in ('n','NO','no','N'):\n",
        "      print('\\nPlease choose the transaction to continue:\\n')\n",
        "      print('1) Check Balance\\n')\n",
        "      print('2) Withdraw Cash\\n')\n",
        "      \n",
        "      option = int(input('Choose the transaction to continue:\\n'))\n",
        "      if option == 1:\n",
        "        print('Your Account Balance is RM',balance,'\\n')\n",
        "        back = input('Would you like to continue? ')\n",
        "        if back in ('n','NO','no','N'):\n",
        "          print('Thank you for using our service \\n')\n",
        "          break\n",
        "\n",
        "      elif option == 2:\n",
        "        withdraw = float(input('Choose/enter the amount: \\n1) RM 100/2) RM 200/3) RM 300/4) RM 400/5) RM 500/6) RM 600 for other amount enter 7: '))\n",
        "        if withdraw in [1, 2, 3, 4, 5, 6]:\n",
        "          balance = balance - withdraw\n",
        "          print ('\\nYour current balance: RM ',balance)\n",
        "          print ('\\nPlease take the cash dispensed')\n",
        "          print ('\\nThank you for using our service')\n",
        "          break\n",
        "\n",
        "        elif withdraw == 7:\n",
        "          withdraw = float(input('Please enter amount: RM '))\n",
        "          if withdraw <= balance:\n",
        "            balance = balance - withdraw\n",
        "            print ('\\nYour current balance: RM ',balance)\n",
        "            print ('\\nPlease take the cash dispensed')\n",
        "            print ('\\nThank you for using our service')\n",
        "            break\n",
        "          elif withdraw >= balance:\n",
        "            print ('Your transaction has been cancelled/ is unsuccessful due to insufficient balance')\n",
        "            break\n",
        "\n",
        "      else:\n",
        "        print('Please enter a correct number. \\n')\n",
        "        back = ('y')\n",
        "elif pin != (123456):\n",
        "  print('Incorrect Pin!')"
      ],
      "execution_count": 28,
      "outputs": [
        {
          "output_type": "stream",
          "text": [
            "Please Enter You 4 Digit Pin: 123456\n",
            "\n",
            "Please choose the transaction to continue:\n",
            "\n",
            "1) Check Balance\n",
            "\n",
            "2) Withdraw Cash\n",
            "\n",
            "Choose the transaction to continue:\n",
            "2\n",
            "Choose/enter the amount: \n",
            "1) RM 100/2) RM 200/3) RM 300/4) RM 400/5) RM 500/6) RM 600 for other amount enter 7: 7\n",
            "Please enter amount: RM 5300\n",
            "Your transaction has been cancelled/ is unsuccessful due to insufficient balance\n"
          ],
          "name": "stdout"
        }
      ]
    }
  ]
}